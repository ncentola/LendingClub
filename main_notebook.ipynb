{
 "cells": [
  {
   "cell_type": "code",
   "execution_count": null,
   "metadata": {},
   "outputs": [],
   "source": [
    "from modeling_data import ModelingData\n",
    "from lendingclub import LendingClub\n",
    "from config import Config\n",
    "from scorer import Scorer\n",
    "from model import Model\n",
    "from copy import copy\n",
    "\n",
    "lc = LendingClub(Config('config.ini'))\n",
    "\n",
    "lc.build_historic_data(data_split_type='stratified', historic_data_dir='../historical_data/')\n",
    "\n",
    "train_md_roi = ModelingData(data=lc.train_data, target='roi')\n",
    "train_md_roi.build()\n",
    "train_md_roi.remove_outliers()\n",
    "\n",
    "train_md_co = ModelingData(data=lc.train_data, target='charge_off')\n",
    "train_md_co.build()\n",
    "train_md_co.remove_outliers()"
   ]
  },
  {
   "cell_type": "code",
   "execution_count": null,
   "metadata": {},
   "outputs": [],
   "source": [
    "charge_off_model = Model(train_md_co)\n",
    "charge_off_model.tune_hyperparams(n_calls=20)\n",
    "charge_off_model.fit()\n",
    "charge_off_model.save(model_name='charge_off_model')"
   ]
  },
  {
   "cell_type": "code",
   "execution_count": null,
   "metadata": {},
   "outputs": [],
   "source": [
    "roi_model = Model(train_md_roi)\n",
    "roi_model.tune_hyperparams(n_calls=20)\n",
    "roi_model.fit()\n",
    "roi_model.save(model_name='roi_model')"
   ]
  },
  {
   "cell_type": "code",
   "execution_count": null,
   "metadata": {},
   "outputs": [],
   "source": [
    "validation_md_roi = ModelingData(lc.validation_data, target='roi')\n",
    "validation_md_roi.build()\n",
    "\n",
    "validation_md_co = ModelingData(lc.validation_data, target='charge_off')\n",
    "validation_md_co.build()"
   ]
  },
  {
   "cell_type": "code",
   "execution_count": null,
   "metadata": {},
   "outputs": [],
   "source": [
    "roi_scorer = Scorer(model='saved_models/roi_model.pkl', data=validation_md_roi)\n",
    "roi_scorer.score()\n",
    "\n",
    "charge_off_scorer = Scorer(model='saved_models/charge_off_model.pkl', data=validation_md_co)\n",
    "charge_off_scorer.score()"
   ]
  },
  {
   "cell_type": "code",
   "execution_count": null,
   "metadata": {},
   "outputs": [],
   "source": [
    "test = copy(charge_off_scorer.data.modeling_data)\n",
    "test['roi_actual'] = roi_scorer.data.target\n",
    "test['roi_pred'] = roi_scorer.preds\n",
    "test['charge_off_actual'] = charge_off_scorer.data.target\n",
    "test['charge_off_pred'] = charge_off_scorer.preds"
   ]
  },
  {
   "cell_type": "code",
   "execution_count": null,
   "metadata": {},
   "outputs": [],
   "source": [
    "buy = test.loc[(thing.roi_pred > 0.19) & (thing.charge_off_pred < 0.02)]\n",
    "buy = pd.merge(lc.master_df[['id', 'total_pymnt']], buy, on='id')"
   ]
  },
  {
   "cell_type": "code",
   "execution_count": null,
   "metadata": {},
   "outputs": [],
   "source": [
    "print('Model Selection Net Return: ' + str(np.sum(buy.total_pymnt) - np.sum(buy.funded_amnt)))\n",
    "print('Model Selection ROI: ' + str((np.sum(buy.total_pymnt) - np.sum(buy.funded_amnt)) / np.sum(buy.funded_amnt)))\n",
    "\n",
    "print('Number of notes invested:', str(len(buy.index)))\n",
    "print('Perent of notes invested:', str(len(buy.index) / len(thing.index) * 100))"
   ]
  }
 ],
 "metadata": {
  "kernelspec": {
   "display_name": "lendingclub_analysis",
   "language": "python",
   "name": "lendingclub_analysis"
  },
  "language_info": {
   "codemirror_mode": {
    "name": "ipython",
    "version": 3
   },
   "file_extension": ".py",
   "mimetype": "text/x-python",
   "name": "python",
   "nbconvert_exporter": "python",
   "pygments_lexer": "ipython3",
   "version": "3.6.3"
  }
 },
 "nbformat": 4,
 "nbformat_minor": 2
}
