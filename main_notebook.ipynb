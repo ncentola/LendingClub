{
 "cells": [
  {
   "cell_type": "code",
   "execution_count": 4,
   "metadata": {},
   "outputs": [
    {
     "name": "stdout",
     "output_type": "stream",
     "text": [
      "Removing 41223 outlier rows.\n",
      "Removing 41223 outlier rows.\n"
     ]
    },
    {
     "data": {
      "image/png": "[encoded data removed]",
      "text/plain": [
       "<matplotlib.figure.Figure at 0x13395bfd0>"
      ]
     },
     "metadata": {},
     "output_type": "display_data"
    }
   ],
   "source": [
    "from lendingclub.modeling_data import ModelingData\n",
    "from lendingclub.lendingclub import LendingClub\n",
    "from lendingclub.config import Config\n",
    "from lendingclub.scorer import Scorer\n",
    "from lendingclub.model import Model\n",
    "from copy import copy\n",
    "import pandas as pd\n",
    "import numpy as np\n",
    "\n",
    "lc = LendingClub(Config('config.ini'))\n",
    "\n",
    "lc.build_historic_data(data_split_type='stratified', historic_data_dir='historical_data/')\n",
    "\n",
    "train_md_roi = ModelingData(data=lc.train_data, target='roi')\n",
    "train_md_roi.build()\n",
    "train_md_roi.remove_outliers()\n",
    "\n",
    "train_md_co = ModelingData(data=lc.train_data, target='charge_off')\n",
    "train_md_co.build()\n",
    "train_md_co.remove_outliers()"
   ]
  },
  {
   "cell_type": "code",
   "execution_count": 8,
   "metadata": {},
   "outputs": [],
   "source": [
    "charge_off_model = Model(train_md_co)\n",
    "# charge_off_model.tune_hyperparams(n_calls=20)\n",
    "charge_off_model.best_params = {'base_score': 0.5,\n",
    " 'booster': 'gbtree',\n",
    " 'colsample_bylevel': 1,\n",
    " 'colsample_bytree': 0.64846976866569173,\n",
    " 'gamma': 1.9219085364634996,\n",
    " 'learning_rate': 0.086252656490571317,\n",
    " 'max_delta_step': 0,\n",
    " 'max_depth': 9,\n",
    " 'min_child_weight': 32,\n",
    " 'missing': None,\n",
    " 'n_estimators': 114,\n",
    " 'n_jobs': -1,\n",
    " 'nthread': -1,\n",
    " 'objective': 'binary:logistic',\n",
    " 'random_state': 0,\n",
    " 'reg_alpha': 0,\n",
    " 'reg_lambda': 3,\n",
    " 'scale_pos_weight': 1,\n",
    " 'seed': 0,\n",
    " 'silent': True,\n",
    " 'subsample': 1}\n",
    "charge_off_model.fit()\n",
    "charge_off_model.save(model_name='charge_off_model')"
   ]
  },
  {
   "cell_type": "code",
   "execution_count": 9,
   "metadata": {},
   "outputs": [],
   "source": [
    "roi_model = Model(train_md_roi)\n",
    "# roi_model.tune_hyperparams(n_calls=20)\n",
    "roi_model.fit()\n",
    "roi_model.save(model_name='roi_model')"
   ]
  },
  {
   "cell_type": "code",
   "execution_count": 10,
   "metadata": {},
   "outputs": [],
   "source": [
    "validation_md_roi = ModelingData(lc.validation_data, target='roi')\n",
    "validation_md_roi.build()\n",
    "\n",
    "validation_md_co = ModelingData(lc.validation_data, target='charge_off')\n",
    "validation_md_co.build()"
   ]
  },
  {
   "cell_type": "code",
   "execution_count": 11,
   "metadata": {},
   "outputs": [
    {
     "name": "stdout",
     "output_type": "stream",
     "text": [
      "Dropping id\n",
      "Dropping id\n"
     ]
    }
   ],
   "source": [
    "roi_scorer = Scorer(model='saved_models/roi_model.pkl', data=validation_md_roi)\n",
    "roi_scorer.score()\n",
    "\n",
    "charge_off_scorer = Scorer(model='saved_models/charge_off_model.pkl', data=validation_md_co)\n",
    "charge_off_scorer.score()"
   ]
  },
  {
   "cell_type": "code",
   "execution_count": 12,
   "metadata": {},
   "outputs": [],
   "source": [
    "test = copy(charge_off_scorer.data.modeling_data)\n",
    "test['roi_actual'] = roi_scorer.data.target\n",
    "test['roi_pred'] = roi_scorer.preds\n",
    "test['charge_off_actual'] = charge_off_scorer.data.target\n",
    "test['charge_off_pred'] = charge_off_scorer.preds"
   ]
  },
  {
   "cell_type": "code",
   "execution_count": 13,
   "metadata": {},
   "outputs": [],
   "source": [
    "import pandas as pd\n",
    "import numpy as np\n",
    "buy = test.loc[(test.roi_pred > 0.19) & (test.charge_off_pred < 0.02)]\n",
    "buy = pd.merge(lc.master_df[['id', 'total_pymnt']], buy, on='id')"
   ]
  },
  {
   "cell_type": "code",
   "execution_count": 14,
   "metadata": {},
   "outputs": [
    {
     "name": "stdout",
     "output_type": "stream",
     "text": [
      "Model Selection Net Return: 5083714.53809\n",
      "Model Selection ROI: 12.3045735408\n",
      "Number of notes invested: 1884\n",
      "Percent of notes invested: 1.0658339132058179\n"
     ]
    }
   ],
   "source": [
    "print('Model Selection Net Return: ' + str(np.sum(buy.total_pymnt) - np.sum(buy.funded_amnt)))\n",
    "print('Model Selection ROI: ' + str((np.sum(buy.total_pymnt) - np.sum(buy.funded_amnt)) / np.sum(buy.funded_amnt) * 100))\n",
    "\n",
    "print('Number of notes invested:', str(len(buy.index)))\n",
    "print('Percent of notes invested:', str(len(buy.index) / len(test.index) * 100))"
   ]
  },
  {
   "cell_type": "code",
   "execution_count": null,
   "metadata": {},
   "outputs": [],
   "source": []
  }
 ],
 "metadata": {
  "kernelspec": {
   "display_name": "lendingclub_analysis",
   "language": "python",
   "name": "lendingclub_analysis"
  },
  "language_info": {
   "codemirror_mode": {
    "name": "ipython",
    "version": 3
   },
   "file_extension": ".py",
   "mimetype": "text/x-python",
   "name": "python",
   "nbconvert_exporter": "python",
   "pygments_lexer": "ipython3",
   "version": "3.6.3"
  }
 },
 "nbformat": 4,
 "nbformat_minor": 2
}
